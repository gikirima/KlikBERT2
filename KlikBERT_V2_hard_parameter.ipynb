{
  "nbformat": 4,
  "nbformat_minor": 0,
  "metadata": {
    "colab": {
      "provenance": [],
      "gpuType": "T4"
    },
    "kernelspec": {
      "name": "python3",
      "display_name": "Python 3"
    },
    "language_info": {
      "name": "python"
    },
    "accelerator": "GPU"
  },
  "cells": [
    {
      "cell_type": "markdown",
      "source": [
        "# **✅ Bagian 1: Import dan Setup**"
      ],
      "metadata": {
        "id": "9mcdIEZNBKLp"
      }
    },
    {
      "cell_type": "code",
      "execution_count": null,
      "metadata": {
        "colab": {
          "base_uri": "https://localhost:8080/"
        },
        "id": "s5Fk3h17A4ss",
        "outputId": "130ef266-b0d8-4ca8-9886-22c3529bedd7"
      },
      "outputs": [
        {
          "output_type": "stream",
          "name": "stdout",
          "text": [
            "Using device: cuda\n"
          ]
        }
      ],
      "source": [
        "import os\n",
        "import random\n",
        "import numpy as np\n",
        "import pandas as pd\n",
        "import torch\n",
        "import torch.nn as nn\n",
        "from torch.utils.data import Dataset, DataLoader\n",
        "import matplotlib.pyplot as plt\n",
        "import seaborn as sns\n",
        "\n",
        "# Transformers\n",
        "from transformers import AutoTokenizer, AutoModel, Trainer, TrainingArguments\n",
        "\n",
        "# Sklearn\n",
        "from sklearn.metrics import (\n",
        "    accuracy_score,\n",
        "    f1_score,\n",
        "    precision_recall_fscore_support,\n",
        "    classification_report,\n",
        "    confusion_matrix,\n",
        ")\n",
        "\n",
        "# ✅ Mount Google Drive\n",
        "from google.colab import drive\n",
        "drive.mount('/content/drive')\n",
        "\n",
        "# ✅ Tentukan path penyimpanan di Google Drive\n",
        "my_drive_folder = \"/content/drive/MyDrive/KlikBERT_Storage/IndoBERT/hard_parameter\"\n",
        "\n",
        "# ✅ Buat folder jika belum ada\n",
        "os.makedirs(my_drive_folder, exist_ok=True)\n",
        "\n",
        "# ✅ Ubah direktori kerja\n",
        "os.chdir(my_drive_folder)\n",
        "\n",
        "# ✅ Konfirmasi\n",
        "print(f\"✅ Current working directory set to: {os.getcwd()}\")\n",
        "\n",
        "# ✅ Cek CUDA\n",
        "device = torch.device(\"cuda\" if torch.cuda.is_available() else \"cpu\")\n",
        "print(f\"✅ Using device: {device}\")\n"
      ]
    },
    {
      "cell_type": "markdown",
      "source": [
        "#✅ Bagian 2: Load & Preprocess Dataset"
      ],
      "metadata": {
        "id": "kY5VPdEVBWIX"
      }
    },
    {
      "cell_type": "code",
      "source": [
        "# Contoh untuk load\n",
        "df = pd.read_csv(\"https://raw.githubusercontent.com/gikirima/indonews-scrapper/refs/heads/main/old%20dataset/KlikBERT_dataset.csv\")\n",
        "df = df.drop_duplicates().dropna()\n",
        "print(f\"Data shape after cleaning: {df.shape}\")\n",
        "\n",
        "# Label Encoding\n",
        "from sklearn.preprocessing import LabelEncoder\n",
        "le_clickbait = LabelEncoder()\n",
        "le_kategori = LabelEncoder()\n",
        "\n",
        "df[\"clickbait_label_encoded\"] = le_clickbait.fit_transform(df[\"clickbait_label\"])\n",
        "df[\"kategori_label_encoded\"] = le_kategori.fit_transform(df[\"kategori_berita\"])\n",
        "\n",
        "print(\"Clickbait labels:\", le_clickbait.classes_)\n",
        "print(\"Kategori labels:\", le_kategori.classes_)\n"
      ],
      "metadata": {
        "colab": {
          "base_uri": "https://localhost:8080/"
        },
        "id": "csoIXJcCBXeG",
        "outputId": "e15b847d-6eb5-4592-eca4-a7f8b7b1446d"
      },
      "execution_count": null,
      "outputs": [
        {
          "output_type": "stream",
          "name": "stdout",
          "text": [
            "Data shape after cleaning: (4117, 5)\n",
            "Clickbait labels: ['exaggeration' 'misleading' 'non clickbait' 'teasing']\n",
            "Kategori labels: ['bisnis' 'entertainment' 'kesehatan' 'kriminal' 'lifestyle' 'lingkungan'\n",
            " 'politik' 'sport' 'teknologi']\n"
          ]
        }
      ]
    },
    {
      "cell_type": "markdown",
      "source": [
        "# ✅ Bagian 3: Split Train/Val/Test"
      ],
      "metadata": {
        "id": "sfVPEr1wBaVw"
      }
    },
    {
      "cell_type": "code",
      "source": [
        "from sklearn.model_selection import train_test_split\n",
        "\n",
        "train_df, test_df = train_test_split(\n",
        "    df, test_size=0.2, stratify=df[\"clickbait_label_encoded\"], random_state=42\n",
        ")\n",
        "train_df, val_df = train_test_split(\n",
        "    train_df, test_size=0.2, stratify=train_df[\"clickbait_label_encoded\"], random_state=42\n",
        ")\n",
        "\n",
        "print(f\"Train: {train_df.shape}, Val: {val_df.shape}, Test: {test_df.shape}\")\n"
      ],
      "metadata": {
        "id": "356HDip_Bd09",
        "colab": {
          "base_uri": "https://localhost:8080/"
        },
        "outputId": "002f98c4-6ca4-4523-9394-374b2b6302d5"
      },
      "execution_count": null,
      "outputs": [
        {
          "output_type": "stream",
          "name": "stdout",
          "text": [
            "Train: (2634, 7), Val: (659, 7), Test: (824, 7)\n"
          ]
        }
      ]
    },
    {
      "cell_type": "markdown",
      "source": [
        "# ✅ Bagian 4: Tokenization"
      ],
      "metadata": {
        "id": "Ef1YF6LqBgkB"
      }
    },
    {
      "cell_type": "code",
      "source": [
        "model_name = \"indobenchmark/indobert-base-p1\"\n",
        "tokenizer = AutoTokenizer.from_pretrained(model_name)\n",
        "max_len = 256\n",
        "\n",
        "def tokenize_batch(df):\n",
        "    return tokenizer(\n",
        "        df[\"judul\"].tolist(),\n",
        "        df[\"isi\"].tolist(),\n",
        "        truncation=True,\n",
        "        padding=True,\n",
        "        max_length=max_len\n",
        "    )\n",
        "\n",
        "train_enc = tokenize_batch(train_df)\n",
        "val_enc = tokenize_batch(val_df)\n",
        "test_enc = tokenize_batch(test_df)\n"
      ],
      "metadata": {
        "id": "eLGydutcBklL"
      },
      "execution_count": null,
      "outputs": []
    },
    {
      "cell_type": "markdown",
      "source": [
        "# **✅ Bagian 5: Dataset Class**"
      ],
      "metadata": {
        "id": "6XorvCbTEYeU"
      }
    },
    {
      "cell_type": "code",
      "source": [
        "class MultiTaskDataset(Dataset):\n",
        "    def __init__(self, encodings, clickbait_labels, kategori_labels):\n",
        "        self.encodings = encodings\n",
        "        self.clickbait_labels = clickbait_labels\n",
        "        self.kategori_labels = kategori_labels\n",
        "\n",
        "    def __len__(self):\n",
        "        return len(self.clickbait_labels)\n",
        "\n",
        "    def __getitem__(self, idx):\n",
        "        item = {key: torch.tensor(val[idx]) for key, val in self.encodings.items()}\n",
        "        item[\"clickbait_labels\"] = torch.tensor(self.clickbait_labels[idx], dtype=torch.long)\n",
        "        item[\"kategori_labels\"] = torch.tensor(self.kategori_labels[idx], dtype=torch.long)\n",
        "        return item\n",
        "\n",
        "train_dataset = MultiTaskDataset(\n",
        "    train_enc,\n",
        "    train_df[\"clickbait_label_encoded\"].tolist(),\n",
        "    train_df[\"kategori_label_encoded\"].tolist()\n",
        ")\n",
        "val_dataset = MultiTaskDataset(\n",
        "    val_enc,\n",
        "    val_df[\"clickbait_label_encoded\"].tolist(),\n",
        "    val_df[\"kategori_label_encoded\"].tolist()\n",
        ")\n",
        "test_dataset = MultiTaskDataset(\n",
        "    test_enc,\n",
        "    test_df[\"clickbait_label_encoded\"].tolist(),\n",
        "    test_df[\"kategori_label_encoded\"].tolist()\n",
        ")\n"
      ],
      "metadata": {
        "id": "Jx1KLy7IEXzk"
      },
      "execution_count": null,
      "outputs": []
    },
    {
      "cell_type": "markdown",
      "source": [
        "# ✅ Bagian 6: Define Model"
      ],
      "metadata": {
        "id": "FjmDC-M7IwG0"
      }
    },
    {
      "cell_type": "code",
      "source": [
        "class IndoBERTMultiTask(nn.Module):\n",
        "    def __init__(self, model_name, num_clickbait_labels, num_kategori_labels):\n",
        "        super().__init__()\n",
        "        self.bert = AutoModel.from_pretrained(model_name)\n",
        "        hidden_size = self.bert.config.hidden_size\n",
        "        self.dropout = nn.Dropout(0.3)\n",
        "        self.clickbait_head = nn.Linear(hidden_size, num_clickbait_labels)\n",
        "        self.kategori_head = nn.Linear(hidden_size, num_kategori_labels)\n",
        "\n",
        "    def forward(self, input_ids, attention_mask, token_type_ids, clickbait_labels=None, kategori_labels=None):\n",
        "        output = self.bert(input_ids=input_ids, attention_mask=attention_mask, token_type_ids=token_type_ids)\n",
        "        pooled = output.last_hidden_state[:,0,:]\n",
        "        pooled = self.dropout(pooled)\n",
        "        clickbait_logits = self.clickbait_head(pooled)\n",
        "        kategori_logits = self.kategori_head(pooled)\n",
        "\n",
        "        loss = None\n",
        "        loss_clickbait = None\n",
        "        loss_kategori = None\n",
        "        if clickbait_labels is not None and kategori_labels is not None:\n",
        "            loss_fct = nn.CrossEntropyLoss()\n",
        "            loss_clickbait = loss_fct(clickbait_logits, clickbait_labels)\n",
        "            loss_kategori = loss_fct(kategori_logits, kategori_labels)\n",
        "            loss = loss_clickbait + loss_kategori\n",
        "\n",
        "        return {\n",
        "            \"loss\": loss,\n",
        "            \"loss_clickbait\": loss_clickbait,\n",
        "            \"loss_kategori\": loss_kategori,\n",
        "            \"clickbait_logits\": clickbait_logits,\n",
        "            \"kategori_logits\": kategori_logits\n",
        "        }\n",
        "\n",
        "model = IndoBERTMultiTask(\n",
        "    model_name,\n",
        "    num_clickbait_labels=len(le_clickbait.classes_),\n",
        "    num_kategori_labels=len(le_kategori.classes_)\n",
        ").to(device)\n"
      ],
      "metadata": {
        "id": "FHyPGcHmGNDF"
      },
      "execution_count": null,
      "outputs": []
    },
    {
      "cell_type": "markdown",
      "source": [
        "# ✅ Bagian 7: Trainer Setup"
      ],
      "metadata": {
        "id": "NMqrvlg-ET9F"
      }
    },
    {
      "cell_type": "code",
      "source": [
        "class MultiTaskTrainer(Trainer):\n",
        "    def compute_loss(self, model, inputs, return_outputs=False, **kwargs):\n",
        "        labels_clickbait = inputs.pop(\"clickbait_labels\")\n",
        "        labels_kategori = inputs.pop(\"kategori_labels\")\n",
        "        outputs = model(**inputs, clickbait_labels=labels_clickbait, kategori_labels=labels_kategori)\n",
        "        loss = outputs[\"loss\"]\n",
        "        # Log per-task loss\n",
        "        self.log({\n",
        "            \"loss_clickbait\": outputs[\"loss_clickbait\"].detach().cpu().item(),\n",
        "            \"loss_kategori\": outputs[\"loss_kategori\"].detach().cpu().item()\n",
        "        })\n",
        "        return (loss, outputs) if return_outputs else loss\n",
        "\n",
        "training_args = TrainingArguments(\n",
        "    output_dir=\"./results\",\n",
        "    num_train_epochs=3,\n",
        "    per_device_train_batch_size=8,\n",
        "    per_device_eval_batch_size=8,\n",
        "    eval_strategy=\"steps\",\n",
        "    eval_steps=50,\n",
        "    save_steps=50,\n",
        "    logging_dir=\"./logs\",\n",
        "    logging_steps=10,\n",
        "    learning_rate=2e-5,\n",
        "    load_best_model_at_end=True,\n",
        "    metric_for_best_model=\"eval_loss\",\n",
        "    greater_is_better=False,\n",
        "    report_to=\"none\"\n",
        ")\n",
        "\n",
        "trainer = MultiTaskTrainer(\n",
        "    model=model,\n",
        "    args=training_args,\n",
        "    train_dataset=train_dataset,\n",
        "    eval_dataset=val_dataset\n",
        ")\n"
      ],
      "metadata": {
        "id": "PA7eL3TvvpJL"
      },
      "execution_count": null,
      "outputs": []
    },
    {
      "cell_type": "markdown",
      "source": [
        "# ✅ Bagian 8: Train"
      ],
      "metadata": {
        "id": "xcOCxKWhEffU"
      }
    },
    {
      "cell_type": "code",
      "source": [
        "trainer.train()"
      ],
      "metadata": {
        "colab": {
          "base_uri": "https://localhost:8080/",
          "height": 706
        },
        "id": "F_XBwio0dwxJ",
        "outputId": "7bc48b79-2827-4bb4-ebce-e0c015a75e05"
      },
      "execution_count": null,
      "outputs": [
        {
          "output_type": "display_data",
          "data": {
            "text/plain": [
              "<IPython.core.display.HTML object>"
            ],
            "text/html": [
              "\n",
              "    <div>\n",
              "      \n",
              "      <progress value='990' max='990' style='width:300px; height:20px; vertical-align: middle;'></progress>\n",
              "      [990/990 26:23, Epoch 3/3]\n",
              "    </div>\n",
              "    <table border=\"1\" class=\"dataframe\">\n",
              "  <thead>\n",
              " <tr style=\"text-align: left;\">\n",
              "      <th>Step</th>\n",
              "      <th>Training Loss</th>\n",
              "      <th>Validation Loss</th>\n",
              "    </tr>\n",
              "  </thead>\n",
              "  <tbody>\n",
              "    <tr>\n",
              "      <td>50</td>\n",
              "      <td>2.081800</td>\n",
              "      <td>1.785923</td>\n",
              "    </tr>\n",
              "    <tr>\n",
              "      <td>100</td>\n",
              "      <td>1.665300</td>\n",
              "      <td>1.434872</td>\n",
              "    </tr>\n",
              "    <tr>\n",
              "      <td>150</td>\n",
              "      <td>1.536200</td>\n",
              "      <td>1.246987</td>\n",
              "    </tr>\n",
              "    <tr>\n",
              "      <td>200</td>\n",
              "      <td>1.315500</td>\n",
              "      <td>1.184996</td>\n",
              "    </tr>\n",
              "    <tr>\n",
              "      <td>250</td>\n",
              "      <td>1.209700</td>\n",
              "      <td>1.189000</td>\n",
              "    </tr>\n",
              "    <tr>\n",
              "      <td>300</td>\n",
              "      <td>1.129400</td>\n",
              "      <td>1.112232</td>\n",
              "    </tr>\n",
              "    <tr>\n",
              "      <td>350</td>\n",
              "      <td>0.950300</td>\n",
              "      <td>1.092354</td>\n",
              "    </tr>\n",
              "    <tr>\n",
              "      <td>400</td>\n",
              "      <td>0.834200</td>\n",
              "      <td>1.062402</td>\n",
              "    </tr>\n",
              "    <tr>\n",
              "      <td>450</td>\n",
              "      <td>0.804200</td>\n",
              "      <td>1.004850</td>\n",
              "    </tr>\n",
              "    <tr>\n",
              "      <td>500</td>\n",
              "      <td>0.723000</td>\n",
              "      <td>0.959525</td>\n",
              "    </tr>\n",
              "    <tr>\n",
              "      <td>550</td>\n",
              "      <td>0.657700</td>\n",
              "      <td>0.958557</td>\n",
              "    </tr>\n",
              "    <tr>\n",
              "      <td>600</td>\n",
              "      <td>0.827600</td>\n",
              "      <td>0.935669</td>\n",
              "    </tr>\n",
              "    <tr>\n",
              "      <td>650</td>\n",
              "      <td>0.677600</td>\n",
              "      <td>0.923263</td>\n",
              "    </tr>\n",
              "    <tr>\n",
              "      <td>700</td>\n",
              "      <td>0.389800</td>\n",
              "      <td>0.907381</td>\n",
              "    </tr>\n",
              "    <tr>\n",
              "      <td>750</td>\n",
              "      <td>0.505000</td>\n",
              "      <td>0.892383</td>\n",
              "    </tr>\n",
              "    <tr>\n",
              "      <td>800</td>\n",
              "      <td>0.564900</td>\n",
              "      <td>0.860593</td>\n",
              "    </tr>\n",
              "    <tr>\n",
              "      <td>850</td>\n",
              "      <td>0.372700</td>\n",
              "      <td>0.869387</td>\n",
              "    </tr>\n",
              "    <tr>\n",
              "      <td>900</td>\n",
              "      <td>0.489000</td>\n",
              "      <td>0.895938</td>\n",
              "    </tr>\n",
              "    <tr>\n",
              "      <td>950</td>\n",
              "      <td>0.327000</td>\n",
              "      <td>0.878622</td>\n",
              "    </tr>\n",
              "  </tbody>\n",
              "</table><p>"
            ]
          },
          "metadata": {}
        },
        {
          "output_type": "execute_result",
          "data": {
            "text/plain": [
              "TrainOutput(global_step=990, training_loss=0.9447585397296482, metrics={'train_runtime': 1584.2989, 'train_samples_per_second': 4.988, 'train_steps_per_second': 0.625, 'total_flos': 0.0, 'train_loss': 0.9447585397296482, 'epoch': 3.0})"
            ]
          },
          "metadata": {},
          "execution_count": 21
        }
      ]
    },
    {
      "cell_type": "markdown",
      "source": [
        "# ✅ Bagian 9: Evaluation"
      ],
      "metadata": {
        "id": "BekYDaiQEiqc"
      }
    },
    {
      "cell_type": "code",
      "source": [
        "def get_predictions(trainer, dataset):\n",
        "    loader = DataLoader(dataset, batch_size=8)\n",
        "    all_clickbait = []\n",
        "    all_kategori = []\n",
        "    model.eval()\n",
        "    with torch.no_grad():\n",
        "        for batch in loader:\n",
        "            input_ids = batch[\"input_ids\"].to(device)\n",
        "            attention_mask = batch[\"attention_mask\"].to(device)\n",
        "            token_type_ids = batch[\"token_type_ids\"].to(device)\n",
        "\n",
        "            outputs = model(input_ids, attention_mask, token_type_ids)\n",
        "            pred_clickbait = outputs[\"clickbait_logits\"].argmax(dim=1).cpu().tolist()\n",
        "            pred_kategori = outputs[\"kategori_logits\"].argmax(dim=1).cpu().tolist()\n",
        "\n",
        "            all_clickbait.extend(pred_clickbait)\n",
        "            all_kategori.extend(pred_kategori)\n",
        "\n",
        "    return all_clickbait, all_kategori\n",
        "\n",
        "pred_clickbait, pred_kategori = get_predictions(trainer, test_dataset)\n",
        "true_clickbait = test_df[\"clickbait_label_encoded\"].tolist()\n",
        "true_kategori = test_df[\"kategori_label_encoded\"].tolist()\n",
        "\n",
        "# Joint Accuracy\n",
        "joint_correct = [\n",
        "    (a == b) and (c == d)\n",
        "    for a, b, c, d in zip(true_clickbait, pred_clickbait, true_kategori, pred_kategori)\n",
        "]\n",
        "joint_acc = np.mean(joint_correct)\n",
        "print(f\"✅ Joint Accuracy: {joint_acc:.4f}\")\n"
      ],
      "metadata": {
        "colab": {
          "base_uri": "https://localhost:8080/"
        },
        "id": "re9jo3YlElAs",
        "outputId": "0b2846d8-8956-4048-fced-cd260d297189"
      },
      "execution_count": null,
      "outputs": [
        {
          "output_type": "stream",
          "name": "stdout",
          "text": [
            "✅ Joint Accuracy: 0.6808\n"
          ]
        }
      ]
    },
    {
      "cell_type": "markdown",
      "source": [
        "# ✅ Bagian 10: Metrics & Report"
      ],
      "metadata": {
        "id": "3wBTv-VaEpYj"
      }
    },
    {
      "cell_type": "code",
      "source": [
        "def evaluate_task(true, pred, label_names, task_name):\n",
        "    acc = accuracy_score(true, pred)\n",
        "    print(f\"\\n✅ {task_name} Accuracy: {acc:.4f}\")\n",
        "\n",
        "    for avg in ['macro', 'micro', 'weighted']:\n",
        "        f1 = f1_score(true, pred, average=avg)\n",
        "        print(f\" - {avg.capitalize()} F1: {f1:.4f}\")\n",
        "\n",
        "    # Per-class Precision, Recall, F1\n",
        "    prec, rec, f1s, _ = precision_recall_fscore_support(true, pred)\n",
        "    for i, label in enumerate(label_names):\n",
        "        print(f\"   {label}: Precision={prec[i]:.2f}, Recall={rec[i]:.2f}, F1={f1s[i]:.2f}\")\n",
        "\n",
        "    # Confusion Matrix\n",
        "    cm = confusion_matrix(true, pred)\n",
        "    plt.figure(figsize=(6,6))\n",
        "    sns.heatmap(cm, annot=True, fmt=\"d\", cmap=\"Blues\", xticklabels=label_names, yticklabels=label_names)\n",
        "    plt.title(f\"{task_name} Confusion Matrix\")\n",
        "    plt.savefig(f\"{task_name.lower().replace(' ','_')}_confusion_matrix.png\")\n",
        "    plt.close()\n",
        "\n",
        "    # Classification Report\n",
        "    report = classification_report(true, pred, target_names=label_names)\n",
        "    print(report)\n",
        "    with open(f\"{task_name.lower().replace(' ','_')}_report.txt\", \"w\") as f:\n",
        "        f.write(report)\n",
        "\n",
        "evaluate_task(true_clickbait, pred_clickbait, le_clickbait.classes_, \"Clickbait\")\n",
        "evaluate_task(true_kategori, pred_kategori, le_kategori.classes_, \"Kategori\")\n"
      ],
      "metadata": {
        "colab": {
          "base_uri": "https://localhost:8080/"
        },
        "id": "nPwkQnFzEroj",
        "outputId": "57f15aac-aa45-4939-81aa-c290675d3dbc"
      },
      "execution_count": null,
      "outputs": [
        {
          "output_type": "stream",
          "name": "stdout",
          "text": [
            "\n",
            "✅ Clickbait Accuracy: 0.7925\n",
            " - Macro F1: 0.7939\n",
            " - Micro F1: 0.7925\n",
            " - Weighted F1: 0.7939\n",
            "   exaggeration: Precision=0.68, Recall=0.78, F1=0.73\n",
            "   misleading: Precision=0.88, Recall=0.85, F1=0.87\n",
            "   non clickbait: Precision=0.85, Recall=0.80, F1=0.82\n",
            "   teasing: Precision=0.78, Recall=0.74, F1=0.76\n",
            "               precision    recall  f1-score   support\n",
            "\n",
            " exaggeration       0.68      0.78      0.73       206\n",
            "   misleading       0.88      0.85      0.87       206\n",
            "non clickbait       0.85      0.80      0.82       206\n",
            "      teasing       0.78      0.74      0.76       206\n",
            "\n",
            "     accuracy                           0.79       824\n",
            "    macro avg       0.80      0.79      0.79       824\n",
            " weighted avg       0.80      0.79      0.79       824\n",
            "\n",
            "\n",
            "✅ Kategori Accuracy: 0.8471\n",
            " - Macro F1: 0.8309\n",
            " - Micro F1: 0.8471\n",
            " - Weighted F1: 0.8470\n",
            "   bisnis: Precision=0.84, Recall=0.86, F1=0.85\n",
            "   entertainment: Precision=0.89, Recall=0.89, F1=0.89\n",
            "   kesehatan: Precision=0.85, Recall=0.81, F1=0.83\n",
            "   kriminal: Precision=0.72, Recall=0.80, F1=0.76\n",
            "   lifestyle: Precision=0.81, Recall=0.84, F1=0.82\n",
            "   lingkungan: Precision=0.77, Recall=0.73, F1=0.75\n",
            "   politik: Precision=0.87, Recall=0.91, F1=0.89\n",
            "   sport: Precision=0.99, Recall=0.91, F1=0.95\n",
            "   teknologi: Precision=0.87, Recall=0.65, F1=0.74\n",
            "               precision    recall  f1-score   support\n",
            "\n",
            "       bisnis       0.84      0.86      0.85        88\n",
            "entertainment       0.89      0.89      0.89       148\n",
            "    kesehatan       0.85      0.81      0.83        81\n",
            "     kriminal       0.72      0.80      0.76        74\n",
            "    lifestyle       0.81      0.84      0.82       160\n",
            "   lingkungan       0.77      0.73      0.75        33\n",
            "      politik       0.87      0.91      0.89       124\n",
            "        sport       0.99      0.91      0.95        76\n",
            "    teknologi       0.87      0.65      0.74        40\n",
            "\n",
            "     accuracy                           0.85       824\n",
            "    macro avg       0.84      0.82      0.83       824\n",
            " weighted avg       0.85      0.85      0.85       824\n",
            "\n"
          ]
        }
      ]
    },
    {
      "cell_type": "markdown",
      "source": [
        "# ✅ Bagian 11: Bias Analysis"
      ],
      "metadata": {
        "id": "SSTHQvJ3Es0j"
      }
    },
    {
      "cell_type": "code",
      "source": [
        "def plot_label_distribution(true, pred, labels, title):\n",
        "    fig, axs = plt.subplots(1, 2, figsize=(12, 5))\n",
        "\n",
        "    # Pastikan true/pred terkonversi ke np.array\n",
        "    true = np.array(true)\n",
        "    pred = np.array(pred)\n",
        "\n",
        "    # Buat count DataFrame supaya seaborn tahu semua kategori\n",
        "    true_counts = pd.DataFrame({'label': true})\n",
        "    pred_counts = pd.DataFrame({'label': pred})\n",
        "\n",
        "    sns.countplot(x='label', data=true_counts, order=range(len(labels)), ax=axs[0])\n",
        "    axs[0].set_title(f\"{title} - True\")\n",
        "    axs[0].set_xticks(range(len(labels)))\n",
        "    axs[0].set_xticklabels(labels, rotation=45, ha='right')\n",
        "\n",
        "    sns.countplot(x='label', data=pred_counts, order=range(len(labels)), ax=axs[1])\n",
        "    axs[1].set_title(f\"{title} - Predicted\")\n",
        "    axs[1].set_xticks(range(len(labels)))\n",
        "    axs[1].set_xticklabels(labels, rotation=45, ha='right')\n",
        "\n",
        "    plt.tight_layout()\n",
        "    plt.savefig(f\"{title.lower().replace(' ','_')}_distribution.png\")\n",
        "    plt.show()\n",
        "    plt.close()\n",
        "\n",
        "\n",
        "plot_label_distribution(true_clickbait, pred_clickbait, le_clickbait.classes_, \"Clickbait\")\n",
        "plot_label_distribution(true_kategori, pred_kategori, le_kategori.classes_, \"Kategori\")"
      ],
      "metadata": {
        "colab": {
          "base_uri": "https://localhost:8080/",
          "height": 997
        },
        "id": "T11AWw-hEvV0",
        "outputId": "82e9fe4d-e06e-4e40-f5eb-51ec2f53fe68"
      },
      "execution_count": null,
      "outputs": [
        {
          "output_type": "display_data",
          "data": {
            "text/plain": [
              "<Figure size 1200x500 with 2 Axes>"
            ],
            "image/png": "[encoded data removed]"
          },
          "metadata": {}
        },
        {
          "output_type": "display_data",
          "data": {
            "text/plain": [
              "<Figure size 1200x500 with 2 Axes>"
            ],
            "image/png": "[encoded data removed]"
          },
          "metadata": {}
        }
      ]
    },
    {
      "cell_type": "markdown",
      "source": [
        "# ✅ Bagian 12: Simpan Model"
      ],
      "metadata": {
        "id": "gee5aqMkExF0"
      }
    },
    {
      "cell_type": "code",
      "source": [
        "save_dir = \"./saved_model\"\n",
        "os.makedirs(save_dir, exist_ok=True)\n",
        "torch.save(model.state_dict(), os.path.join(save_dir, \"pytorch_model.bin\"))\n",
        "tokenizer.save_pretrained(save_dir)\n",
        "print(f\"\\n✅ Model and tokenizer saved in {save_dir}\")"
      ],
      "metadata": {
        "id": "Aj16QplDEytE"
      },
      "execution_count": null,
      "outputs": []
    },
    {
      "cell_type": "markdown",
      "source": [
        "# ✅ Bagian 13: Simpan JSON"
      ],
      "metadata": {
        "id": "LlC876e6UjLh"
      }
    },
    {
      "cell_type": "code",
      "source": [
        "import json\n",
        "\n",
        "config = {\n",
        "    \"architectures\": [\"IndoBERTMultiTask\"],\n",
        "    \"model_type\": \"indobert-multitask\",\n",
        "    \"num_clickbait_labels\": 4,\n",
        "    \"num_kategori_labels\": 9,\n",
        "    \"_name_or_path\": \"indobenchmark/indobert-base-p1\",\n",
        "    \"hidden_size\": 768\n",
        "}\n",
        "\n",
        "with open(os.path.join(save_dir, \"config.json\"), \"w\") as f:\n",
        "    json.dump(config, f, indent=2)"
      ],
      "metadata": {
        "id": "hhfdb_SJUhgp"
      },
      "execution_count": null,
      "outputs": []
    }
  ]
}